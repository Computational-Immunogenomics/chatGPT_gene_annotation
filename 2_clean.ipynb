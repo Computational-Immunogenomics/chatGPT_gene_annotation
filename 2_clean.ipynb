{
 "cells": [
  {
   "cell_type": "code",
   "execution_count": 2,
   "id": "3eb0901e-d661-49ad-a10e-2d10eb3faf73",
   "metadata": {},
   "outputs": [],
   "source": [
    "library(data.table)\n",
    "library(tidyverse)"
   ]
  },
  {
   "cell_type": "markdown",
   "id": "1edb33c3-d3ed-4550-8b8a-f88a72ea6775",
   "metadata": {},
   "source": [
    "### 0 - Output from ChatGPT ### "
   ]
  },
  {
   "cell_type": "code",
   "execution_count": 6,
   "id": "eaf9bcfe-f3c9-4b36-af89-c0c8b89c01fc",
   "metadata": {},
   "outputs": [],
   "source": [
    "df <- fread(\"go_annotation.csv\", skip = 1)"
   ]
  },
  {
   "cell_type": "markdown",
   "id": "4483d17a-0e76-4be7-a2b5-0dfdb680566e",
   "metadata": {},
   "source": [
    "### 1 - All genes ###"
   ]
  },
  {
   "cell_type": "code",
   "execution_count": 61,
   "id": "e617175d-e8ac-4480-939a-95c13558bb57",
   "metadata": {},
   "outputs": [],
   "source": [
    "names(df) <- c(\"gene\", \"cancer_related\", \"label\", \"cancer_pathway\", \"protein_type\", \"subcellular_location\", \"description\", \"other\")"
   ]
  },
  {
   "cell_type": "code",
   "execution_count": 62,
   "id": "7987c85d-700b-407d-8c01-1cd3e66ca6d3",
   "metadata": {},
   "outputs": [],
   "source": [
    "a <- \n",
    "df %>% \n",
    " filter(other == \"\") %>%\n",
    " select(-other)"
   ]
  },
  {
   "cell_type": "code",
   "execution_count": 68,
   "id": "a6f2b541-73d9-41b5-85b2-3f826e2a361b",
   "metadata": {},
   "outputs": [],
   "source": [
    "b <- \n",
    "df %>% \n",
    " filter(other != \"\") %>% \n",
    " mutate(cancer_pathway = protein_type, \n",
    "          protein_type = subcellular_location, \n",
    "          subcellular_location = description, \n",
    "          description = other) %>% \n",
    " select(-other)"
   ]
  },
  {
   "cell_type": "code",
   "execution_count": 81,
   "id": "65b2fbd7-36f8-4ced-ad89-b215f8b4b0f8",
   "metadata": {},
   "outputs": [],
   "source": [
    "c <- rbind(a, b) %>% mutate(gene = gsub(\"\\\\*\", \"\", gene))"
   ]
  },
  {
   "cell_type": "code",
   "execution_count": 122,
   "id": "a9132d21-1e20-4513-aa94-909daba4095b",
   "metadata": {},
   "outputs": [],
   "source": [
    "d <- \n",
    "c %>% \n",
    " mutate(cancer_pathway = ifelse(grepl(\"Not \", cancer_pathway) | \n",
    "                                cancer_pathway %in% c(\"Unknown\", \"N/A\", \"-\", \"None\", \"None identified\", \"Unclear\"), \n",
    "                                NA, str_to_title(cancer_pathway)), \n",
    "         cancer_pathway = gsub(\"Pathways\", \"\", cancer_pathway), \n",
    "         cancer_pathway = gsub(\"Pathway\", \"\", cancer_pathway),\n",
    "         cancer_pathway = gsub(\"Yes\", \"\", cancer_pathway),\n",
    "         cancer_pathway = gsub(\"\\\\(\", \"\", cancer_pathway),\n",
    "         cancer_pathway = gsub(\"\\\\)\", \"\", cancer_pathway)) %>% \n",
    "  mutate(cancer_related = ifelse(cancer_related != \"Yes\", \"No\", \"Yes\"),\n",
    "         cancer_related = ifelse(is.na(cancer_pathway), \"No\", cancer_related)) %>% \n",
    "  filter(label != \"\")"
   ]
  },
  {
   "cell_type": "markdown",
   "id": "5b9d0d77-6aad-4d32-994a-8f5681ea32c8",
   "metadata": {},
   "source": [
    "### 2 - Explore"
   ]
  },
  {
   "cell_type": "code",
   "execution_count": 125,
   "id": "914c6a94-8ca8-4e65-8af0-ea74bb203188",
   "metadata": {},
   "outputs": [],
   "source": [
    "fwrite(d, \"chatGPT_gene_annotation.csv\")"
   ]
  }
 ],
 "metadata": {
  "kernelspec": {
   "display_name": "R",
   "language": "R",
   "name": "ir"
  },
  "language_info": {
   "codemirror_mode": "r",
   "file_extension": ".r",
   "mimetype": "text/x-r-source",
   "name": "R",
   "pygments_lexer": "r",
   "version": "4.3.1"
  }
 },
 "nbformat": 4,
 "nbformat_minor": 5
}
